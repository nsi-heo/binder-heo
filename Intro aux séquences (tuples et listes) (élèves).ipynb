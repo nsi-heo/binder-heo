{
 "cells": [
  {
   "cell_type": "markdown",
   "metadata": {},
   "source": [
    "# Introduction aux séquences\n",
    "_____"
   ]
  },
  {
   "cell_type": "markdown",
   "metadata": {},
   "source": [
    "Les séquences en Python\n",
    "==========\n",
    "\n",
    "Il est possible de \"stocker\" plusieurs grandeurs dans une même structure, ce type de structure est appelé une séquence. De façon plus précise, nous définirons une séquence comme un ensemble fini et ordonné d'éléments indicés de 0 à n-1 (si cette séquence comporte n éléments). \n",
    "Nous allons étudier plus particulièrement 2 types de séquences : les tuples et les tableaux (il en existe d'autres que nous n'évoquerons pas ici).\n",
    "\n",
    "\n",
    "```1.Les tuples en Python ```\n",
    "===\n",
    "\n",
    "\n",
    "Comme déjà dit ci-dessus, un tuple est une séquence. Voici un exemple très simple : \n",
    "\n",
    "<center><span style=\"color:blue\"><strong> mon_tuple = (5, 8, 6, 9)</strong> </span></center>\n",
    "    \n",
    " Dans le code ci-dessus, la variable \"mon_tuple\" référence un tuple, ce tuple est constitué des entiers 5, 8, 6 et 9. Comme indiqué dans la définition, chaque élément du tuple est indicé (il possède un indice):\n",
    " <ul>\n",
    "   <li> le premier élément du tuple (l'entier 5) possède l'indice 0</li>\n",
    "    <li>le deuxième élément du tuple (l'entier 8) possède l'indice 1</li>\n",
    "    <li>le troisième élément du tuple (l'entier 6) possède l'indice 2</li>\n",
    "    <li>le quatrième élément du tuple (l'entier 9) possède l'indice 3</li>\n",
    "</ul>\n",
    "Comment accéder à l'élément d'indice i dans un tuple ?\n",
    "\n",
    "Simplement en utilisant la \"notation entre crochets\", comme pour accéder aux lettres dans une variable *string* :\n",
    "\n",
    "<br><strong>À faire vous-même 1</strong>\n",
    "\n",
    "Testez le code suivant :\n",
    "\n",
    "<span style=\"color:blue\">mon_tuple = (5, 8, 6, 9)<br> a = mon_tuple[2]</span>\n",
    "\n",
    "On peut également écrire un tuple sans parentèse comme ceci mon_tuple = 5, 8, 6, 9 mais c'est moins lisible.\n",
    "\n",
    "<br><br> Pour valider votre saisie dans le champs Entrée[ ] penser à faire <strong>Shift+Entrée</strong>\n"
   ]
  },
  {
   "cell_type": "code",
   "execution_count": null,
   "metadata": {},
   "outputs": [],
   "source": []
  },
  {
   "cell_type": "markdown",
   "metadata": {},
   "source": [
    "Quelle est la valeur référencée par la variable a (utilisez la console pour répondre à cette question)?\n"
   ]
  },
  {
   "cell_type": "code",
   "execution_count": null,
   "metadata": {},
   "outputs": [],
   "source": []
  },
  {
   "cell_type": "markdown",
   "metadata": {},
   "source": [
    "La variable mon_tuple référence le tuple (5, 8, 6, 9), la variable <span style=\"color:blue\">a</span> référence l'entier 6 car cet entier 6 est bien le troisième élément du tuple, il possède donc l'indice 2\n",
    "\n",
    "ATTENTION : dans les séquences les indices commencent toujours à 0 (le premier élément de la séquence a pour indice 0), oublier cette particularité est une source d'erreur \"classique\". "
   ]
  },
  {
   "cell_type": "markdown",
   "metadata": {},
   "source": [
    "<br><strong>À faire vous-même 2</strong>\n",
    "\n",
    "Complétez le code ci-dessous (en remplaçant les ...) afin qu'après l'exécution de ce programme la variable <strong>a</strong> référence l'entier 8.\n",
    "Faire afficher la valeur de <strong>a</strong>.\n",
    "\n",
    "\t\t"
   ]
  },
  {
   "cell_type": "code",
   "execution_count": 3,
   "metadata": {},
   "outputs": [],
   "source": [
    "mon_tuple = (5, 8, 6, 9)\n",
    "a = mon_tuple[...]\n",
    "\n"
   ]
  },
  {
   "cell_type": "markdown",
   "metadata": {},
   "source": [
    " Un tuple ne contient pas forcément des nombres entiers, il peut aussi contenir des nombres décimaux, des chaînes de caractères, des booléens...\n",
    " \n",
    "<br><strong>À faire vous-même 3</strong>\n",
    "\n",
    "Quel est le résultat attendu après l'exécution de ce programme ?\n",
    "\n",
    "Vérifiez votre hypothèse en testant ce programme\n",
    "\n",
    "\n",
    "<span style=\"color:blue\">mon_tuple = (\"le\", \"monde\", \"bonjour\")<br>\n",
    "print(mon_tuple[2] + \" \" + mon_tuple[0] + \" \" + mon_tuple[1] + \"!\")</span>\n"
   ]
  },
  {
   "cell_type": "code",
   "execution_count": null,
   "metadata": {},
   "outputs": [],
   "source": []
  },
  {
   "cell_type": "markdown",
   "metadata": {},
   "source": [
    "<br><strong>À faire vous-même 4</strong>\n",
    "\n",
    "Analysez puis testez le code suivant :\n",
    "\n",
    "<span style=\"color:blue\">def add(a, b):</span> <br>\n",
    "<span STYLE=\"padding:0 0 0 40px\">  c = a + b <br></span>\n",
    "   <span STYLE=\"padding:0 0 0 40px\">   return (a, b, c)<br></span>\n",
    "<span style=\"color:blue\">mon_tuple = add(5, 8)<br>\n",
    "print(str(mon_tuple[0]) + \" + \" + str(mon_tuple[1])+ \" = \"+ str(mon_tuple[2]))</span>"
   ]
  },
  {
   "cell_type": "code",
   "execution_count": null,
   "metadata": {},
   "outputs": [],
   "source": []
  },
  {
   "cell_type": "markdown",
   "metadata": {},
   "source": [
    " Il faut bien comprendre dans l'exemple ci-dessus que la variable mon_tuple référence un tuple (puisque la fonction \"add\" renvoie un tuple), d'où la \"notation entre crochets\" utilisée avec mon_tuple (mon_tuple[1]...)\n",
    "\n",
    "La console permet d'afficher les éléments présents dans un tuple simplement en écrivant le nom du tuple: "
   ]
  },
  {
   "cell_type": "markdown",
   "metadata": {},
   "source": [
    "<br><strong>À faire vous-même 5</strong>\n",
    "\n",
    "Après avoir exécuté le programme ci-dessous, saisissez mon_tuple dans la console.\n",
    "\n",
    "\n",
    "mon_tuple = (5, 8, 6, 9)\n",
    "\t\t\n"
   ]
  },
  {
   "cell_type": "code",
   "execution_count": null,
   "metadata": {},
   "outputs": [],
   "source": []
  },
  {
   "cell_type": "markdown",
   "metadata": {},
   "source": [
    "\n",
    "<strong>Il est possible d'assigner à des variables les valeurs contenues dans un tuple :\n",
    "\n",
    "À faire vous-même 6</strong>\n",
    "\n",
    "\n",
    "a, b, c, d = (5, 8, 6, 9)\n",
    "\t\t\n",
    "\n",
    "Quelle est la valeur référencée par la variable a ? La variable b ? La variable c ? La variable d ? Vérifiez votre réponse à l'aide de la console Python. "
   ]
  },
  {
   "cell_type": "code",
   "execution_count": null,
   "metadata": {},
   "outputs": [],
   "source": []
  },
  {
   "cell_type": "markdown",
   "metadata": {},
   "source": [
    "<strong>A partir d'une chaîne de caractères, il est possible de créer un tuple avec la fonction tuple()\n",
    "\n",
    "À faire vous-même 7</strong> <br>\n",
    "\n",
    "<span style=\"color:blue\">Lettres = tuple(\"Bonjour\")<span><br><br>\n",
    "\n",
    "Vérifier dans la console que Lettres est bien un tuple. Afficher Lettres.\n",
    "\n",
    "<br> Puis faire afficher la lettre 'j' en utilisant uniquement la variable Lettres.\n"
   ]
  },
  {
   "cell_type": "code",
   "execution_count": null,
   "metadata": {
    "scrolled": false
   },
   "outputs": [],
   "source": []
  },
  {
   "cell_type": "code",
   "execution_count": null,
   "metadata": {},
   "outputs": [],
   "source": []
  },
  {
   "cell_type": "markdown",
   "metadata": {},
   "source": [
    "<strong>Comment ajouter des élèments à un tuple</strong>\n",
    "\n",
    "<strong>À faire vous-même 8</strong> <br>\n",
    "<span style=\"color:blue\">\n",
    "Nombres = (1,2)\n",
    "    <br> Nombres =Nombres + (3,)<br><br>\n",
    "    \n",
    "</span> \n",
    "     \n",
    "     Attention! Sans la virgule (3) est un int alors que (3,) est un tuple\n",
    "Vérifier en affichant la variable <span style=\"color:blue\">Nombres</span> dans la console que <span style=\"color:blue\">Nombres</span> est le tuple (1,2,3)\n",
    "\n",
    "<br> Ajouter les nombres 5 et 6 au tuple <span style=\"color:blue\">Nombres</span> en une opération."
   ]
  },
  {
   "cell_type": "code",
   "execution_count": null,
   "metadata": {},
   "outputs": [],
   "source": []
  },
  {
   "cell_type": "code",
   "execution_count": null,
   "metadata": {},
   "outputs": [],
   "source": []
  },
  {
   "cell_type": "markdown",
   "metadata": {},
   "source": [
    "<strong>Comment initialiser un tuple</strong>\n",
    "\n",
    "<strong>À faire vous-même 9</strong> <br>\n",
    "<span style=\"color:blue\">\n",
    "Nombres = ()\n",
    "</span> \n",
    "<br> Que vaut alors <span style=\"color:blue\">\n",
    "Nombres?\n",
    "</span><br>\n",
    "En créant une boucle for, créer à partir de la variable <span style=\"color:blue\">Nombres</span> un tuple tel que Nombres=(0,1,2,3,4,5,6,7,8,9,10)  "
   ]
  },
  {
   "cell_type": "code",
   "execution_count": null,
   "metadata": {},
   "outputs": [],
   "source": []
  },
  {
   "cell_type": "markdown",
   "metadata": {},
   "source": [
    "```2.Les listes ou tableaux en Python ```\n",
    "===\n",
    "\n",
    " __ATTENTION__ : Dans la suite nous allons employer le terme \"tableau\". Pour parler de ces \"tableaux\" les concepteurs de Python ont choisi d'utiliser le terme de \"list\" (\"liste\" en français). Pour éviter toute confusion, notamment par rapport à des notions qui seront abordées en terminale, le choix a été fait d'employer \"tableau\" à la place de \"liste\" (dans la documentation vous rencontrerez le terme \"list\", cela ne devra pas vous pertuber)\n",
    "\n",
    "Il n'est pas possible de modifier un tuple après sa création (on parle d'objet **\"immutable\"**), si vous essayez de modifier un tuple existant, l'interpréteur Python vous renverra une erreur. Les tableaux sont,comme les tuples, des séquences, mais à la différence des tuples, ils sont modifiables (on parle d'objets **\"mutables\"**). "
   ]
  },
  {
   "cell_type": "markdown",
   "metadata": {},
   "source": [
    "<strong>On ne peut pas modifier les valeurs d'un tuple</strong>\n",
    "\n",
    "<strong>À faire vous-même 10</strong> <br>\n",
    "<span style=\"color:blue\">\n",
    "Trim1 = (\"Janv\",Février\",\"Mars\")\n",
    "</span> \n",
    "<br> \n",
    "\n",
    "\n",
    ">Essayez de modifier le champ \"Janv\" en \"Janvier\"\n",
    "\n",
    ">Que constatez vous?"
   ]
  },
  {
   "cell_type": "code",
   "execution_count": 7,
   "metadata": {},
   "outputs": [],
   "source": [
    "Trim1 = (\"Janv\",\"Février\",\"Mars\")\n",
    "...."
   ]
  },
  {
   "cell_type": "markdown",
   "metadata": {},
   "source": [
    "**Pour créer un tableau, il existe différentes méthodes : une de ces méthodes ressemble beaucoup à la création d'un tuple :**\n",
    "\n",
    "`mon_tab = [\"Janvier\", \"Fév\", \"Mars\", \"Avril\"]`\n",
    "\n",
    " Notez la présence des **crochets** à la place des parenthèses.\n",
    "\n",
    "Un tableau est une séquence, il est donc possible de \"récupérer\" un élément d'un tableau à l'aide de son indice (de la même manière que pour un tuple ou une chaîne de caractères)\n",
    "\n",
    "\n",
    "**À faire vous-même 11**\n",
    "\n",
    ">Quelle est la valeur référencée par la variable `ma_variable` après l'exécution du programme ci-dessous ? (utilisez la console pour vérifier votre réponse)"
   ]
  },
  {
   "cell_type": "code",
   "execution_count": null,
   "metadata": {},
   "outputs": [],
   "source": [
    "mon_tab = [\"Janvier\", \"Fév\", \"Mars\", \"Avril\"]\n",
    "ma_variable = mon_tab[1]\n",
    "...\n"
   ]
  },
  {
   "cell_type": "markdown",
   "metadata": {},
   "source": [
    " N.B. Il est possible de saisir directement `mon_tab[1]` dans la console sans passer par l'intermédiaire de la variable `ma_variable`\n",
    "\n",
    "\n",
    "**Il est possible de modifier un tableau à l'aide de la \"notation entre crochets\" :**\n",
    "\n",
    "**À faire vous-même 12**\n",
    "\n",
    ">Quel est le contenu du tableau référencé par la variable `mon_tab` après l'exécution du programme ci-dessous ? (utilisez la console pour vérifier votre réponse)"
   ]
  },
  {
   "cell_type": "code",
   "execution_count": 10,
   "metadata": {},
   "outputs": [],
   "source": [
    "mon_tab = [\"Janvier\", \"Fév\", \"Mars\", \"Avril\"]\n",
    "mon_tab[1] = \"Février\"\n",
    "...\n"
   ]
  },
  {
   "cell_type": "markdown",
   "metadata": {},
   "source": [
    " Comme vous pouvez le constater avec l'exemple ci-dessus, l'élément d'indice 1 (le string \"Fév\") a bien été remplacé par le string \"Février\"\n",
    "\n",
    "**Il est aussi possible d'ajouter un élément en fin de tableau à l'aide de la méthode `append` :**\n",
    "\n",
    "**À faire vous-même 13**\n",
    "\n",
    ">Quel est le contenu du tableau référencé par la variable mon_tab après l'exécution du programme ci-dessous ? (utilisez la console pour vérifier votre réponse)\n",
    "\n"
   ]
  },
  {
   "cell_type": "code",
   "execution_count": 12,
   "metadata": {},
   "outputs": [],
   "source": [
    "mon_tab = [\"Janvier\", \"Février\", \"Mars\", \"Avril\"]\n",
    "mon_tab.append(\"Mai\")\n",
    "..."
   ]
  },
  {
   "cell_type": "markdown",
   "metadata": {},
   "source": [
    " **L'instruction \"del\" permet de supprimer un élément d'un tableau en utilisant son index :**\n",
    "\n",
    "**À faire vous-même 14**\n",
    "\n",
    ">Quel est le contenu du tableau référencé par la variable mon_tab après l'exécution du programme ci-dessous ? (utilisez la console pour vérifier votre réponse)"
   ]
  },
  {
   "cell_type": "code",
   "execution_count": 15,
   "metadata": {},
   "outputs": [],
   "source": [
    "mon_tab = [\"Janvier\", \"Février\", \"Mars\", \"Avril\"]\n",
    "del(mon_tab[1])\n",
    "...\n"
   ]
  },
  {
   "cell_type": "markdown",
   "metadata": {},
   "source": [
    " **La fonction \"len\" permet de connaitre le nombre d’éléments présents dans une séquence (tableau et tuple)**\n",
    " \n",
    "**À faire vous-même 15**\n",
    "\n",
    ">Quelle est la valeur référencée par la variable nb_len après l'exécution du programme ci-dessous ? (utilisez la console pour vérifier votre réponse)"
   ]
  },
  {
   "cell_type": "code",
   "execution_count": 17,
   "metadata": {},
   "outputs": [],
   "source": [
    "mon_tab = [\"Janvier\", \"Février\", \"Mars\", \"Avril\"]\n",
    "nb_elem = len(mon_tab)\n",
    "...."
   ]
  },
  {
   "cell_type": "markdown",
   "metadata": {},
   "source": [
    "Une petite parenthèse : on pourrait s'interroger sur l'intérêt d'utiliser un tuple puisque le tableau permet plus de choses ! \n",
    "\n",
    "La réponse est simple : les opérations sur les tuples sont plus \"rapides\".\n",
    "\n",
    "Quand vous savez que votre tableau ne sera pas modifié, il est préférable d'utiliser un tuple à la place d'un tableau. "
   ]
  },
  {
   "cell_type": "markdown",
   "metadata": {},
   "source": [
    "## la boucle \"for\" : parcourir les éléments d'un tableau\n",
    "\n",
    "La boucle `for... in` permet de parcourir chacun des éléments d’une séquence (tableau ou tuple) :\n",
    "\n",
    "**À faire vous-même 16**\n",
    "\n",
    ">Analysez puis testez le code suivant :"
   ]
  },
  {
   "cell_type": "code",
   "execution_count": 20,
   "metadata": {},
   "outputs": [],
   "source": [
    "debut_annee = [\"Janv\",\"Fev\",\"Mars\",\"Avril\"]\n",
    "for mois in debut_annee:\n",
    "    print(mois)"
   ]
  },
  {
   "cell_type": "markdown",
   "metadata": {},
   "source": [
    " Quelques explications : comme son nom l'indique, la boucle \"for\" est une boucle ! Nous \"sortirons\" de la boucle une fois que tous les éléments du tableau `debut_annee` auront été parcourus. element est une variable qui va :\n",
    "\n",
    "    au premier tour de boucle, référencer le premier élément du tableau (la chaîne \"Janv\")\n",
    "    au deuxième tour de boucle, référencer le deuxième élément du tableau (la chaîne \"Fev\")\n",
    "    au troisième tour de boucle, référencer le troisième élément du tableau (la chaîne \"Mars\")\n",
    "    au quatrième tour de boucle, référencer le quatrième élément de le tableau (la chaîne \"Avril\")\n",
    "\n",
    "Une chose importante à bien comprendre : le choix du nom de la variable qui va référencer les éléments du tableau les uns après les autres (element) est totalement arbitraire, il est possible de choisir un autre nom sans aucun problème, le code suivant aurait donné exactement le même résultat : "
   ]
  },
  {
   "cell_type": "code",
   "execution_count": null,
   "metadata": {},
   "outputs": [],
   "source": [
    "debut_annee = [\"Janv\",\"Fev\",\"Mars\",\"Avril\"]\n",
    "for toto in debut_annee:\n",
    "    print(toto)"
   ]
  },
  {
   "cell_type": "markdown",
   "metadata": {},
   "source": [
    " **Dans la boucle `for... in` il est possible d’utiliser la fonction prédéfinie `range` à la place d’un tableau d’entiers :**\n",
    " \n",
    "**À faire vous-même 17**\n",
    "\n",
    ">Analysez puis testez le code suivant :"
   ]
  },
  {
   "cell_type": "code",
   "execution_count": null,
   "metadata": {},
   "outputs": [],
   "source": [
    "for element in range(0, 5):\n",
    "    print (element)"
   ]
  },
  {
   "cell_type": "markdown",
   "metadata": {},
   "source": [
    "Comme vous pouvez le constater, `range(0,5)` est, au niveau de la boucle `for..in`, équivalent au tableau `[0,1,2,3,4]`, le code ci-dessous donnerait le même résultat que le programme vu dans le **À faire vous-même 17** : "
   ]
  },
  {
   "cell_type": "code",
   "execution_count": null,
   "metadata": {},
   "outputs": [],
   "source": [
    "mon_tab = [0, 1, 2, 3, 4]\n",
    "for element in mon_tab:\n",
    "    print (element)"
   ]
  },
  {
   "cell_type": "markdown",
   "metadata": {},
   "source": [
    " ATTENTION : si vous avez dans un programme `range(a,b)`, `a` est la borne inférieure et `b` la borne supérieure. Vous ne devez surtout pas perdre de vu que la __borne inférieure est incluse__ , mais que la __borne supérieure est **exclue**__.\n",
    "\n",
    "**Il est possible d'utiliser la méthode `range` pour \"remplir\" un tableau :**\n",
    "\n",
    ">**À faire vous-même 18**\n",
    "\n",
    ">Quel est le contenu du tableau référencé par la variable mon_tab après l'exécution du programme ci-dessous ? (utilisez la console pour vérifier votre réponse)"
   ]
  },
  {
   "cell_type": "code",
   "execution_count": null,
   "metadata": {},
   "outputs": [],
   "source": [
    "mon_tab = []\n",
    "for element in range(0, 5):\n",
    "    mon_tab.append(element)\n",
    "..."
   ]
  },
  {
   "cell_type": "markdown",
   "metadata": {},
   "source": [
    "## Exercice\n",
    "A vous de jouer!\n",
    "\n",
    "<br>\n",
    "\n",
    "# Exercice 1 : Résoudre une équation\n",
    "\n",
    "Créer une première fonction nommée <span style=\"color:blue\">equation</span> ayant pour paramètre un entier `x` et retournant un tuple composé des images de `f1` et `f2`. <br>`f1` et `f2` sont deux fonctions définies comme suit :\n",
    "\n",
    "\n",
    "`f1(x) = 2x²-3x-20` et `f2(x)=x+28`"
   ]
  },
  {
   "cell_type": "code",
   "execution_count": null,
   "metadata": {},
   "outputs": [],
   "source": [
    "def equation(x):\n",
    "    ...\n",
    "\n",
    "equation(5)"
   ]
  },
  {
   "cell_type": "markdown",
   "metadata": {},
   "source": [
    "Céer une seconde fonction <span style=\"color:blue\">test_equation</span> sans paramètre et retournant une éventuelle solution à l'équation     `2x²-3x-20=x+28`\n",
    "<br> \n",
    ">Pour cela, vous ferez une boucle (de 0 à 20) qui calculera les valeurs des deux fonctions en utilisant la fonction equation et vous testerez si les valeurs de f1 et de f2 sont égales.\n",
    "<br>Vous retournerez la valeur trouvée"
   ]
  },
  {
   "cell_type": "code",
   "execution_count": null,
   "metadata": {},
   "outputs": [],
   "source": [
    "def test_equation():\n",
    "    for x in range(21): # x prend les valeurs de 0 à 20\n",
    "        ......\n",
    "    \n",
    "test_equation()"
   ]
  },
  {
   "cell_type": "markdown",
   "metadata": {},
   "source": [
    "# Exercice 2 : Nom d’un mois\n",
    "\n",
    "En utilisant un tuple, réalisez une fonction nom_mois qui à un entier compris entre 1 et 12 associe le nom du mois correspondant.\n",
    "Pour cela vous créerez un tuple <span style=\"color:blue\">Mois = (\"Janv\",\"Fev\",Mars\",Avril\",\"Mai\",\"Juin\",\"Juillet\",\"Août\",\"Sept\",\"Oct\",\"Nov\",\"Décembre\")"
   ]
  },
  {
   "cell_type": "code",
   "execution_count": null,
   "metadata": {},
   "outputs": [],
   "source": [
    "Mois = (\"Janv\",\"Fev\",\"Mars\",\"Avril\",\"Mai\",\"Juin\",\"Juillet\",\"Aout\",\"Sept\",\"Oct\",\"Nov\",\"Decembre\")\n",
    "def nom_mois(...):\n",
    "    ...\n",
    "\n",
    "    \n",
    "nom_mois(5)"
   ]
  },
  {
   "cell_type": "markdown",
   "metadata": {},
   "source": [
    "# Exercice 3 : Calcul de moyenne avec un tableau\n",
    "\n",
    "- A partir de la variable `notes=[13,14,15,17,12,19]` qui est tableau (ou une liste), faire une fonction `moyenne` prenant en paramètre un tableau de notes et renvoyant la moyenne.\n"
   ]
  },
  {
   "cell_type": "code",
   "execution_count": null,
   "metadata": {},
   "outputs": [],
   "source": [
    "def moyenne(notes):\n",
    "    for ...\n",
    "    \n",
    "    \n",
    "notes=[13,14,15,17,12,19]\n",
    "moyenne(notes)"
   ]
  },
  {
   "cell_type": "markdown",
   "metadata": {},
   "source": [
    "- Avec la fonction `del` supprimez la 5ème note puis ajoutez une nouvelle note avec la fonction `append`. Vous ajouterez 20. Vous calculerez à nouveau la moyenne."
   ]
  },
  {
   "cell_type": "code",
   "execution_count": null,
   "metadata": {},
   "outputs": [],
   "source": [
    "notes=[13,14,15,17,12,19]\n",
    "\n",
    "....\n",
    "\n",
    "moyenne(notes)"
   ]
  },
  {
   "cell_type": "markdown",
   "metadata": {},
   "source": [
    "\n",
    "# Exercice 4+ : Appartenance à un tuple\n",
    "\n",
    "Lorsque t est un tuple, l’expression x in t permet de tester l’appartenance de la valeur de x à ce tuple. La réponse est booléenne. Il est parfois intéressant d’avoir plus de précisions comme l’indice d’une occurrence de x dans t, ou bien le nombre d’occurrences.\n",
    "\n",
    "Réalisez une fonction nommée indice qui renvoie l’indice de la première occurrence de son premier paramètre dans le tuple passé en second paramètre, si elle existe. Par exemple :\n",
    "\n",
    "indice (1, (3, 1, 4, 1, 5, 9, 2))\n",
    "    doit renvoyer 1\n",
    "    \n",
    "  On pourra utiliser la boucle <span style=\"color:blue\"> for x in t: </span> pour parcourir tous les éléments du tuple (comme pour une chaîne de caractères)\n"
   ]
  },
  {
   "cell_type": "code",
   "execution_count": null,
   "metadata": {},
   "outputs": [],
   "source": [
    "def indice(nb,t):\n",
    "    ...\n",
    "\n",
    "\n",
    "indice (9, (3, 1, 4, 1, 5, 9, 2))"
   ]
  },
  {
   "cell_type": "markdown",
   "metadata": {},
   "source": [
    "Réalisez une fonction nommée nbre_occurrences qui renvoie le nombre d’occurrences du premier paramètre dans le tuple passé en second paramètre. Par exemple :\n",
    "\n",
    "nbre_occurrences (1, (3,1,4,1,5,9,2))\n",
    "    doit renvoyer 2\n",
    "\n",
    "\n",
    "nbre_occurrences (8, (3,1,4,1,5,9,2))\n",
    "    doit renvoyer 0\n"
   ]
  },
  {
   "cell_type": "code",
   "execution_count": null,
   "metadata": {},
   "outputs": [],
   "source": [
    "...\n",
    "\n",
    "\n",
    "nbre_occurrences (1, (3,1,4,1,5,9,2))"
   ]
  },
  {
   "cell_type": "markdown",
   "metadata": {},
   "source": [
    "\n",
    "# Exercice 5+ : tuple miroir\n",
    "\n",
    "Réalisez une fonction nommée renverse qui renvoie un tuple contenant les éléments du tuple t passé en paramètre dans l’ordre inverse.\n",
    "\n",
    "Pour ajouter un élèment à un tuple il suffit d'utiliser l'opérateur <strong>+</strong> comme pour les chaînes de caractères. Il faut bien sûr que les deux opérandes soient des tuples. Pour cela, on pourra transformer un caractère ou nombre en un tuple de la manière suiante. Par exemple <span style=\"color:blue\">t = (\"a\",)   et ici t=('a',)</span> c'est un tuple avec un seul élément.\n",
    "\n",
    "Par exemple :\n",
    "\n",
    "<span style=\"color:blue\">l = tuple ('Timoleon')<br>\n",
    "renverse(l)</span>\n",
    "   <br> <br>doit renvoyer ('n', 'o', 'e', 'l', 'o', 'm', 'i', 'T')\n",
    "\n",
    "\n",
    "\n"
   ]
  },
  {
   "cell_type": "code",
   "execution_count": null,
   "metadata": {},
   "outputs": [],
   "source": [
    "...\n",
    "\n",
    "l = tuple ('Timoleon')\n",
    "renverse(l)"
   ]
  },
  {
   "cell_type": "markdown",
   "metadata": {},
   "source": [
    "\n",
    "# Exercice 6++ : liste et parité.\n",
    "\n",
    "On rappelle que la fonction randint du module random permet de choisir un nombre au hasard (pseudo-aléatoirement) entre deux bornes a et b passée en paramètre. (les bornes sont inclues)\n",
    "\n",
    "<span style=\"color:blue\">from random import randint\n",
    "<br>help(randint)</span>\n",
    "\n",
    "Help on method randint in module random:\n",
    "\n",
    "`randint(a, b)` method of random.Random instance\n",
    "    Return random integer in range [a, b], including both end points.\n",
    "\n",
    "<span style=\"color:blue\">randint(0,99)\n",
    "<br>20\n",
    "</span>\n",
    "\n",
    ">**Ecrivez une fonction nommée `liste_d_entiers_au_hasard` paramétrée par un entier n, qui renvoie un tableau (liste) de longueur n d'entiers choisi entre 1 et 100**\n",
    "\n",
    "<span style=\"color:blue\">liste_d_entiers_au_hasard(10)<br>\n",
    "[4, 63, 73, 59, 44, 72, 30, 52, 44, 38]\n",
    "</span>\n"
   ]
  },
  {
   "cell_type": "code",
   "execution_count": null,
   "metadata": {},
   "outputs": [],
   "source": [
    "...\n",
    "\n",
    "\n",
    "l1 = liste_d_entiers_au_hasard(10)\n",
    "l1"
   ]
  },
  {
   "cell_type": "markdown",
   "metadata": {},
   "source": [
    "On rappelle aussi le prédicat `est_pair` qui permet de déterminer si un entier n passé en paramètre est pair.\n",
    "\n",
    "<span style=\"color:blue\">def est_pair(n):<br>\n",
    ".......return ( ( n % 2 ) == 0 )\n",
    "</span><br><br>\n",
    ">**Réalisez une fonction `filtre_pair` paramétrée par un tableau d'entiers `t` et dont le résultat est le tableau obtenu en supprimant les entiers impairs du tableau `t`.**\n"
   ]
  },
  {
   "cell_type": "code",
   "execution_count": null,
   "metadata": {},
   "outputs": [],
   "source": [
    "def est_pair(n):\n",
    "    return ( ( n % 2 ) == 0 ) \n",
    "\n",
    "def filtre_pair(t)\n",
    "....\n",
    "\n",
    "filtre_pair(l1)"
   ]
  },
  {
   "cell_type": "code",
   "execution_count": null,
   "metadata": {},
   "outputs": [],
   "source": []
  }
 ],
 "metadata": {
  "kernelspec": {
   "display_name": "Python 3",
   "language": "python",
   "name": "python3"
  },
  "language_info": {
   "codemirror_mode": {
    "name": "ipython",
    "version": 3
   },
   "file_extension": ".py",
   "mimetype": "text/x-python",
   "name": "python",
   "nbconvert_exporter": "python",
   "pygments_lexer": "ipython3",
   "version": "3.7.3"
  }
 },
 "nbformat": 4,
 "nbformat_minor": 2
}
